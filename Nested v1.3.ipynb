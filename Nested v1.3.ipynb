{
 "cells": [
  {
   "cell_type": "code",
   "execution_count": 1,
   "metadata": {},
   "outputs": [
    {
     "name": "stderr",
     "output_type": "stream",
     "text": [
      "C:\\Users\\ADETOLA\\Anaconda3\\envs\\camsparknn\\lib\\site-packages\\h5py\\__init__.py:36: FutureWarning: Conversion of the second argument of issubdtype from `float` to `np.floating` is deprecated. In future, it will be treated as `np.float64 == np.dtype(float).type`.\n",
      "  from ._conv import register_converters as _register_converters\n",
      "Using TensorFlow backend.\n"
     ]
    }
   ],
   "source": [
    "from PIL import Image\n",
    "import glob\n",
    "import numpy as np\n",
    "from collections import defaultdict\n",
    "from keras.preprocessing.image import ImageDataGenerator, img_to_array, load_img, array_to_img\n",
    "from keras.models import Model\n",
    "from keras.layers import Dense, MaxPooling2D, Input, Flatten, Dropout\n",
    "from keras.applications.mobilenet import preprocess_input\n",
    "from keras.applications import MobileNet\n",
    "from keras import backend as K\n",
    "import matplotlib.pylab as plt\n",
    "import cv2\n",
    "import os, shutil\n",
    "\n",
    "from shutil import copyfile"
   ]
  },
  {
   "cell_type": "code",
   "execution_count": 2,
   "metadata": {
    "scrolled": true
   },
   "outputs": [],
   "source": [
    "# # Train-test split, only run this code once\n",
    "# INPUT = 'Org'\n",
    "# VAL_NUMBER = 0.25\n",
    "    \n",
    "# def get_files(path):\n",
    "#     dirs = [x[0] for x in os.walk(path)]\n",
    "#     files = {}\n",
    "#     for directory in dirs:\n",
    "#         classes = os.path.basename(os.path.normpath(directory))\n",
    "#         files[classes] = glob.glob(os.path.join(directory, '*.jpg'))\n",
    " \n",
    "#     return files\n",
    "\n",
    "# all_files = get_files(INPUT)\n",
    "# new_dict = {k:v for k,v in all_files.items() if v}\n",
    "\n",
    "# train_dir = 'Train/'\n",
    "# test_dir = 'Test/'\n",
    "# train_dirs = os.listdir(train_dir)\n",
    "# test_dirs = os.listdir(test_dir)\n",
    "\n",
    "# for _class in new_dict.keys():\n",
    "#     files = new_dict[_class]\n",
    "#     np.random.shuffle(files)\n",
    "#     file_size = len(files)\n",
    "#     val_files = files[:int(file_size * VAL_NUMBER)]\n",
    "    \n",
    "#     for file in files:\n",
    "#         if file in val_files:\n",
    "#                 basename = os.path.basename(file)\n",
    "# #                 new_name = _class+ '_' + basename\n",
    "# #                 os.rename(file, file.replace(basename, new_name))\n",
    "#                 shutil.move('Org/'+_class+'/'+basename, test_dir+'/'+_class)\n",
    "#         else:\n",
    "#                 basename = os.path.basename(file)\n",
    "# #                 new_name = _class+ '_' + basename\n",
    "# #                 os.rename(file, file.replace(basename, new_name))\n",
    "#                 shutil.move('Org/'+_class+'/'+basename, train_dir+'/'+_class)\n"
   ]
  },
  {
   "cell_type": "code",
   "execution_count": 3,
   "metadata": {},
   "outputs": [
    {
     "name": "stdout",
     "output_type": "stream",
     "text": [
      "Found 2148 images belonging to 3 classes.\n",
      "Found 715 images belonging to 3 classes.\n"
     ]
    }
   ],
   "source": [
    "train_datagen = ImageDataGenerator(\n",
    "        rescale=1./255,\n",
    "        rotation_range=30,\n",
    "        width_shift_range=0.2,\n",
    "        height_shift_range=0.2,\n",
    "        shear_range=0.2,\n",
    "        zoom_range=0.2,\n",
    "        horizontal_flip=True\n",
    ")\n",
    "\n",
    "test_datagen = ImageDataGenerator(rescale=1./255)\n",
    "\n",
    "train_dir = 'Train/'\n",
    "test_dir = 'Test/'\n",
    "IM_WIDTH = 224 \n",
    "IM_HEIGHT = 224\n",
    "batch_size = 30\n",
    "\n",
    "train_generator = train_datagen.flow_from_directory(\n",
    "        train_dir, \n",
    "        target_size=(IM_WIDTH, IM_HEIGHT), \n",
    "        batch_size=batch_size,\n",
    "        seed=1234)\n",
    "\n",
    "test_generator = test_datagen.flow_from_directory(\n",
    "        test_dir,\n",
    "        target_size=(IM_WIDTH, IM_HEIGHT),\n",
    "        batch_size=batch_size,\n",
    "        seed=1234\n",
    "        )"
   ]
  },
  {
   "cell_type": "code",
   "execution_count": 4,
   "metadata": {},
   "outputs": [],
   "source": [
    "def get_nb_files(directory):\n",
    "    \"\"\"Get number of files by searching directory recursively\"\"\"\n",
    "    if not os.path.exists(directory):\n",
    "        return 0\n",
    "    cnt = 0\n",
    "    for r, dirs, files in os.walk(directory):\n",
    "        for dr in dirs:\n",
    "            cnt += len(glob.glob(os.path.join(r, dr + \"/*\")))\n",
    "    return cnt"
   ]
  },
  {
   "cell_type": "code",
   "execution_count": 5,
   "metadata": {},
   "outputs": [],
   "source": [
    "def add_new_last_layer(base_model, nb_classes):\n",
    "\n",
    "    \"\"\"Add last layer to the convnet\n",
    "       Args:\n",
    "        base_model: keras model excluding top\n",
    "        nb_classes: # of classes\n",
    "    Returns:\n",
    "        new keras model with last layer\n",
    "    \"\"\"\n",
    "    x = base_model.output\n",
    "    x = MaxPooling2D((3, 3), border_mode='same', strides=1, name='max_pool')(x)\n",
    "    x = Dropout(0.2, seed=1234)(x)\n",
    "    x = Flatten()(x)\n",
    "#     x = Dense(100, activation='relu', name='fc1')(x)\n",
    "    predictions = Dense(3, activation='softmax')(x)\n",
    "    model = Model(input=base_model.input, output=predictions)\n",
    "    return model\n"
   ]
  },
  {
   "cell_type": "code",
   "execution_count": 6,
   "metadata": {},
   "outputs": [],
   "source": [
    "def setup_to_transfer_learn(model, base_model):\n",
    "    \"\"\"Freeze all layers and compile the model\"\"\"\n",
    "    for layer in base_model.layers:\n",
    "        layer.trainable = False\n",
    "    model.compile(optimizer='rmsprop',\n",
    "                  loss='categorical_crossentropy',\n",
    "                  metrics=['accuracy'])"
   ]
  },
  {
   "cell_type": "code",
   "execution_count": 7,
   "metadata": {},
   "outputs": [
    {
     "data": {
      "text/plain": [
       "3"
      ]
     },
     "execution_count": 7,
     "metadata": {},
     "output_type": "execute_result"
    },
    {
     "data": {
      "text/plain": [
       "2148"
      ]
     },
     "execution_count": 7,
     "metadata": {},
     "output_type": "execute_result"
    },
    {
     "data": {
      "text/plain": [
       "715"
      ]
     },
     "execution_count": 7,
     "metadata": {},
     "output_type": "execute_result"
    }
   ],
   "source": [
    "nb_classes = len(glob.glob(train_dir + \"/*\"))\n",
    "nb_classes\n",
    "nb_train_samples = get_nb_files(train_dir)\n",
    "nb_train_samples\n",
    "nb_test_samples = get_nb_files(test_dir)\n",
    "nb_test_samples"
   ]
  },
  {
   "cell_type": "code",
   "execution_count": 8,
   "metadata": {},
   "outputs": [],
   "source": [
    "if(K.image_dim_ordering() == 'th'):\n",
    "    input_tensor = Input(shape=(3, 224, 224))\n",
    "else:\n",
    "    input_tensor = Input(shape=(224, 224, 3))"
   ]
  },
  {
   "cell_type": "code",
   "execution_count": 9,
   "metadata": {},
   "outputs": [
    {
     "name": "stderr",
     "output_type": "stream",
     "text": [
      "C:\\Users\\ADETOLA\\Anaconda3\\envs\\camsparknn\\lib\\site-packages\\ipykernel_launcher.py:11: UserWarning: Update your `MaxPooling2D` call to the Keras 2 API: `MaxPooling2D((3, 3), strides=1, name=\"max_pool\", padding=\"same\")`\n",
      "  # This is added back by InteractiveShellApp.init_path()\n",
      "C:\\Users\\ADETOLA\\Anaconda3\\envs\\camsparknn\\lib\\site-packages\\ipykernel_launcher.py:16: UserWarning: Update your `Model` call to the Keras 2 API: `Model(inputs=Tensor(\"in..., outputs=Tensor(\"de...)`\n",
      "  app.launch_new_instance()\n"
     ]
    }
   ],
   "source": [
    "base_model = MobileNet(input_tensor = input_tensor, input_shape=(224, 224, 3), weights='imagenet', include_top=False)\n",
    "model = add_new_last_layer(base_model, nb_classes)\n",
    "# base_model.summary()"
   ]
  },
  {
   "cell_type": "code",
   "execution_count": 10,
   "metadata": {},
   "outputs": [
    {
     "data": {
      "text/plain": [
       "(224, 224, 3)"
      ]
     },
     "execution_count": 10,
     "metadata": {},
     "output_type": "execute_result"
    },
    {
     "data": {
      "text/plain": [
       "(224, 224, 3)"
      ]
     },
     "execution_count": 10,
     "metadata": {},
     "output_type": "execute_result"
    }
   ],
   "source": [
    "train_generator.image_shape\n",
    "test_generator.image_shape"
   ]
  },
  {
   "cell_type": "code",
   "execution_count": null,
   "metadata": {},
   "outputs": [
    {
     "name": "stderr",
     "output_type": "stream",
     "text": [
      "C:\\Users\\ADETOLA\\Anaconda3\\envs\\camsparknn\\lib\\site-packages\\ipykernel_launcher.py:5: UserWarning: The semantics of the Keras 2 argument `steps_per_epoch` is not the same as the Keras 1 argument `samples_per_epoch`. `steps_per_epoch` is the number of batches to draw from the generator at each epoch. Basically steps_per_epoch = samples_per_epoch/batch_size. Similarly `nb_val_samples`->`validation_steps` and `val_samples`->`steps` arguments have changed. Update your method calls accordingly.\n",
      "  \"\"\"\n",
      "C:\\Users\\ADETOLA\\Anaconda3\\envs\\camsparknn\\lib\\site-packages\\ipykernel_launcher.py:5: UserWarning: Update your `fit_generator` call to the Keras 2 API: `fit_generator(<keras.pre..., validation_data=<keras.pre..., steps_per_epoch=71, epochs=1)`\n",
      "  \"\"\"\n"
     ]
    },
    {
     "name": "stdout",
     "output_type": "stream",
     "text": [
      "Epoch 1/1\n",
      " 4/71 [>.............................] - ETA: 17:27 - loss: 6.1786 - acc: 0.6167"
     ]
    }
   ],
   "source": [
    "setup_to_transfer_learn(model, base_model)\n",
    "history_tl = model.fit_generator(train_generator,\n",
    "                                   samples_per_epoch=nb_train_samples,\n",
    "                                 nb_epoch=1,\n",
    "                                   validation_data=test_generator,\n",
    "                                )\n",
    "#                                   nb_val_samples=nb_test_samples) \n",
    "\n"
   ]
  },
  {
   "cell_type": "code",
   "execution_count": null,
   "metadata": {},
   "outputs": [],
   "source": [
    "model.save(output_model_file)"
   ]
  },
  {
   "cell_type": "code",
   "execution_count": null,
   "metadata": {},
   "outputs": [],
   "source": [
    "def plot_training(history):\n",
    "    acc = history.history['acc']\n",
    "    val_acc = history.history['val_acc']\n",
    "    loss = history.history['loss']\n",
    "    val_loss = history.history['val_loss']\n",
    "    epochs = range(len(acc))\n",
    "    plt.plot(epochs, acc, 'r.')\n",
    "    plt.plot(epochs, val_acc, 'r')\n",
    "    plt.title('Training and validation accuracy')\n",
    "    plt.savefig('accuracy.png')\n",
    "    plt.figure()\n",
    "    plt.plot(epochs, loss, 'r.')\n",
    "    plt.plot(epochs, val_loss, 'r-')\n",
    "    plt.title('Training and validation loss')\n",
    "    plt.savefig('loss.png')"
   ]
  },
  {
   "cell_type": "code",
   "execution_count": null,
   "metadata": {},
   "outputs": [],
   "source": [
    "plot_training(history_tl)"
   ]
  }
 ],
 "metadata": {
  "kernelspec": {
   "display_name": "Python 3",
   "language": "python",
   "name": "python3"
  },
  "language_info": {
   "codemirror_mode": {
    "name": "ipython",
    "version": 3
   },
   "file_extension": ".py",
   "mimetype": "text/x-python",
   "name": "python",
   "nbconvert_exporter": "python",
   "pygments_lexer": "ipython3",
   "version": "3.6.5"
  }
 },
 "nbformat": 4,
 "nbformat_minor": 2
}
